{
 "cells": [
  {
   "cell_type": "markdown",
   "metadata": {},
   "source": [
    "This code builds on Maria's deep learning model and \n",
    "- addresses data loading providing relative path to the processed data (by Niccolo)\n",
    "- removes \"/255\" preprocessing step\n",
    "- adds train/val split\n",
    "- reduces layers\n",
    "- adds disease-specific accuracies (test set)\n",
    "- adds a section on new symptom set and a shortlist of 5 top predicted diseases \n"
   ]
  },
  {
   "cell_type": "code",
   "execution_count": 22,
   "metadata": {},
   "outputs": [],
   "source": [
    "from sklearn.model_selection import train_test_split\n",
    "from sklearn.neighbors import KNeighborsClassifier\n",
    "from sklearn.metrics import classification_report\n",
    "import numpy as np\n",
    "import pandas as pd\n",
    "from tensorflow.keras.models import Sequential\n",
    "from tensorflow.keras.layers import Dense, Dropout\n",
    "from tensorflow.keras.utils import to_categorical\n",
    "from tensorflow.keras.optimizers import Adam\n",
    "from sklearn.model_selection import train_test_split\n",
    "from tensorflow.keras.optimizers import SGD\n",
    "from sklearn.preprocessing import LabelEncoder\n",
    "from sklearn.model_selection import train_test_split\n",
    "from keras.callbacks import EarlyStopping\n",
    "from keras.regularizers import l2\n",
    "from sklearn.preprocessing import LabelEncoder\n",
    "from keras.utils import to_categorical"
   ]
  },
  {
   "cell_type": "code",
   "execution_count": 2,
   "metadata": {},
   "outputs": [
    {
     "data": {
      "text/html": [
       "<div>\n",
       "<style scoped>\n",
       "    .dataframe tbody tr th:only-of-type {\n",
       "        vertical-align: middle;\n",
       "    }\n",
       "\n",
       "    .dataframe tbody tr th {\n",
       "        vertical-align: top;\n",
       "    }\n",
       "\n",
       "    .dataframe thead th {\n",
       "        text-align: right;\n",
       "    }\n",
       "</style>\n",
       "<table border=\"1\" class=\"dataframe\">\n",
       "  <thead>\n",
       "    <tr style=\"text-align: right;\">\n",
       "      <th></th>\n",
       "      <th>itching</th>\n",
       "      <th>skin_rash</th>\n",
       "      <th>nodal_skin_eruptions</th>\n",
       "      <th>continuous_sneezing</th>\n",
       "      <th>shivering</th>\n",
       "      <th>chills</th>\n",
       "      <th>joint_pain</th>\n",
       "      <th>stomach_pain</th>\n",
       "      <th>acidity</th>\n",
       "      <th>ulcers_on_tongue</th>\n",
       "      <th>...</th>\n",
       "      <th>blackheads</th>\n",
       "      <th>scurring</th>\n",
       "      <th>skin_peeling</th>\n",
       "      <th>silver_like_dusting</th>\n",
       "      <th>small_dents_in_nails</th>\n",
       "      <th>inflammatory_nails</th>\n",
       "      <th>blister</th>\n",
       "      <th>red_sore_around_nose</th>\n",
       "      <th>yellow_crust_ooze</th>\n",
       "      <th>prognosis</th>\n",
       "    </tr>\n",
       "  </thead>\n",
       "  <tbody>\n",
       "    <tr>\n",
       "      <th>0</th>\n",
       "      <td>1</td>\n",
       "      <td>1</td>\n",
       "      <td>1</td>\n",
       "      <td>0</td>\n",
       "      <td>0</td>\n",
       "      <td>0</td>\n",
       "      <td>0</td>\n",
       "      <td>0</td>\n",
       "      <td>0</td>\n",
       "      <td>0</td>\n",
       "      <td>...</td>\n",
       "      <td>0</td>\n",
       "      <td>0</td>\n",
       "      <td>0</td>\n",
       "      <td>0</td>\n",
       "      <td>0</td>\n",
       "      <td>0</td>\n",
       "      <td>0</td>\n",
       "      <td>0</td>\n",
       "      <td>0</td>\n",
       "      <td>Fungal infection</td>\n",
       "    </tr>\n",
       "    <tr>\n",
       "      <th>1</th>\n",
       "      <td>0</td>\n",
       "      <td>1</td>\n",
       "      <td>1</td>\n",
       "      <td>0</td>\n",
       "      <td>0</td>\n",
       "      <td>0</td>\n",
       "      <td>0</td>\n",
       "      <td>0</td>\n",
       "      <td>0</td>\n",
       "      <td>0</td>\n",
       "      <td>...</td>\n",
       "      <td>0</td>\n",
       "      <td>0</td>\n",
       "      <td>0</td>\n",
       "      <td>0</td>\n",
       "      <td>0</td>\n",
       "      <td>0</td>\n",
       "      <td>0</td>\n",
       "      <td>0</td>\n",
       "      <td>0</td>\n",
       "      <td>Fungal infection</td>\n",
       "    </tr>\n",
       "  </tbody>\n",
       "</table>\n",
       "<p>2 rows × 132 columns</p>\n",
       "</div>"
      ],
      "text/plain": [
       "   itching  skin_rash  nodal_skin_eruptions  continuous_sneezing  shivering  \\\n",
       "0        1          1                     1                    0          0   \n",
       "1        0          1                     1                    0          0   \n",
       "\n",
       "   chills  joint_pain  stomach_pain  acidity  ulcers_on_tongue  ...  \\\n",
       "0       0           0             0        0                 0  ...   \n",
       "1       0           0             0        0                 0  ...   \n",
       "\n",
       "   blackheads  scurring  skin_peeling  silver_like_dusting  \\\n",
       "0           0         0             0                    0   \n",
       "1           0         0             0                    0   \n",
       "\n",
       "   small_dents_in_nails  inflammatory_nails  blister  red_sore_around_nose  \\\n",
       "0                     0                   0        0                     0   \n",
       "1                     0                   0        0                     0   \n",
       "\n",
       "   yellow_crust_ooze         prognosis  \n",
       "0                  0  Fungal infection  \n",
       "1                  0  Fungal infection  \n",
       "\n",
       "[2 rows x 132 columns]"
      ]
     },
     "execution_count": 2,
     "metadata": {},
     "output_type": "execute_result"
    }
   ],
   "source": [
    "import pandas as pd\n",
    "\n",
    "# Load dataset\n",
    "disease_df_train = pd.read_csv('../data/processed/Training.csv')\n",
    "\n",
    "# Display dataset\n",
    "disease_df_train.head(2)"
   ]
  },
  {
   "cell_type": "code",
   "execution_count": 3,
   "metadata": {},
   "outputs": [],
   "source": [
    "X_train = disease_df_train.drop(columns=['prognosis'])\n",
    "y_train = disease_df_train['prognosis']\n",
    "disease_df_test = pd.read_csv('../data/processed/Testing.csv')\n",
    "X_test = disease_df_test.drop(columns=['prognosis'])\n",
    "y_test = disease_df_test['prognosis']"
   ]
  },
  {
   "cell_type": "code",
   "execution_count": 4,
   "metadata": {},
   "outputs": [],
   "source": [
    "from sklearn.preprocessing import LabelEncoder\n",
    "from keras.utils import to_categorical\n",
    "label_encoder = LabelEncoder()\n",
    "\n",
    "# Fit and transform the prognosis labels into integers\n",
    "y_train = label_encoder.fit_transform(y_train)\n",
    "y_test = label_encoder.transform(y_test)\n",
    "\n",
    "# Convert the labels to one-hot encoded vectors\n",
    "y_train = to_categorical(y_train, num_classes=41)  # 41 is the number of unique diseases\n",
    "y_test = to_categorical(y_test, num_classes=41)"
   ]
  },
  {
   "cell_type": "code",
   "execution_count": 15,
   "metadata": {},
   "outputs": [
    {
     "name": "stdout",
     "output_type": "stream",
     "text": [
      "Training set size: 3936\n",
      "Validation set size: 984\n",
      "Test set size: 42\n"
     ]
    }
   ],
   "source": [
    "from sklearn.model_selection import train_test_split\n",
    "\n",
    "# Further split the training data into training and validation sets\n",
    "X_train_split, X_val, y_train_split, y_val = train_test_split(\n",
    "    X_train, y_train, test_size=0.2, stratify=y_train, random_state=42\n",
    ")\n",
    "\n",
    "print(f\"Training set size: {X_train_split.shape[0]}\")\n",
    "print(f\"Validation set size: {X_val.shape[0]}\")\n",
    "print(f\"Test set size: {X_test.shape[0]}\")"
   ]
  },
  {
   "cell_type": "code",
   "execution_count": 16,
   "metadata": {},
   "outputs": [
    {
     "name": "stdout",
     "output_type": "stream",
     "text": [
      "Epoch 1/10\n",
      "123/123 [==============================] - 1s 4ms/step - loss: 3.6702 - accuracy: 0.0462 - val_loss: 3.5923 - val_accuracy: 0.1199\n",
      "Epoch 2/10\n",
      "123/123 [==============================] - 0s 2ms/step - loss: 3.5630 - accuracy: 0.0846 - val_loss: 3.4909 - val_accuracy: 0.1941\n",
      "Epoch 3/10\n",
      "123/123 [==============================] - 0s 2ms/step - loss: 3.4623 - accuracy: 0.1441 - val_loss: 3.3870 - val_accuracy: 0.3283\n",
      "Epoch 4/10\n",
      "123/123 [==============================] - 0s 2ms/step - loss: 3.3517 - accuracy: 0.2157 - val_loss: 3.2767 - val_accuracy: 0.4959\n",
      "Epoch 5/10\n",
      "123/123 [==============================] - 0s 2ms/step - loss: 3.2556 - accuracy: 0.2630 - val_loss: 3.1603 - val_accuracy: 0.5732\n",
      "Epoch 6/10\n",
      "123/123 [==============================] - 0s 3ms/step - loss: 3.1474 - accuracy: 0.3061 - val_loss: 3.0378 - val_accuracy: 0.6829\n",
      "Epoch 7/10\n",
      "123/123 [==============================] - 0s 3ms/step - loss: 3.0308 - accuracy: 0.3468 - val_loss: 2.9102 - val_accuracy: 0.7276\n",
      "Epoch 8/10\n",
      "123/123 [==============================] - 0s 3ms/step - loss: 2.9148 - accuracy: 0.3968 - val_loss: 2.7770 - val_accuracy: 0.7663\n",
      "Epoch 9/10\n",
      "123/123 [==============================] - 0s 3ms/step - loss: 2.7917 - accuracy: 0.4337 - val_loss: 2.6390 - val_accuracy: 0.8211\n",
      "Epoch 10/10\n",
      "123/123 [==============================] - 0s 3ms/step - loss: 2.6616 - accuracy: 0.4652 - val_loss: 2.4977 - val_accuracy: 0.8628\n"
     ]
    }
   ],
   "source": [
    "# from keras.models import Sequential\n",
    "# from keras.layers import Dense\n",
    "# from keras.callbacks import EarlyStopping\n",
    "\n",
    "# Sequential model\n",
    "model = Sequential()\n",
    "\n",
    "# Add layers\n",
    "model.add(Dense(32, input_dim=X_train_split.shape[1], activation='relu'))  # Input layer + first hidden layer\n",
    "model.add(Dropout(0.5))\n",
    "model.add(Dense(41, activation='softmax'))  # Output layer (41 classes = diseases)\n",
    "\n",
    "# Compile the model\n",
    "model.compile(optimizer='SGD', loss='categorical_crossentropy', metrics=['accuracy'])\n",
    "\n",
    "# Train the model with the validation set\n",
    "history = model.fit(\n",
    "    X_train_split, y_train_split,\n",
    "    validation_data=(X_val, y_val),\n",
    "    epochs=10,\n",
    "    batch_size=32,\n",
    "    # callbacks=[early_stopping]\n",
    ")"
   ]
  },
  {
   "cell_type": "code",
   "execution_count": 12,
   "metadata": {},
   "outputs": [
    {
     "data": {
      "image/png": "[encoded data removed]",
      "text/plain": [
       "<Figure size 640x480 with 1 Axes>"
      ]
     },
     "metadata": {},
     "output_type": "display_data"
    },
    {
     "data": {
      "image/png": "[encoded data removed]",
      "text/plain": [
       "<Figure size 640x480 with 1 Axes>"
      ]
     },
     "metadata": {},
     "output_type": "display_data"
    }
   ],
   "source": [
    "import matplotlib.pyplot as plt\n",
    "\n",
    "# Plot training & validation accuracy values\n",
    "plt.plot(history.history['accuracy'])\n",
    "plt.plot(history.history['val_accuracy'])\n",
    "plt.title('Model accuracy')\n",
    "plt.xlabel('Epochs')\n",
    "plt.ylabel('Accuracy')\n",
    "plt.legend(['Train', 'Validation'], loc='upper left')\n",
    "plt.show()\n",
    "\n",
    "# Plot training & validation loss values\n",
    "plt.plot(history.history['loss'])\n",
    "plt.plot(history.history['val_loss'])\n",
    "plt.title('Model loss')\n",
    "plt.xlabel('Epochs')\n",
    "plt.ylabel('Loss')\n",
    "plt.legend(['Train', 'Validation'], loc='upper left')\n",
    "plt.show()"
   ]
  },
  {
   "cell_type": "code",
   "execution_count": 11,
   "metadata": {},
   "outputs": [
    {
     "name": "stdout",
     "output_type": "stream",
     "text": [
      "2/2 [==============================] - 0s 4ms/step - loss: 2.4672 - accuracy: 0.8571\n",
      "Test Loss:  2.4672\n",
      "Test Accuracy:  0.8571\n"
     ]
    }
   ],
   "source": [
    "test_loss, test_accuracy = model.evaluate(X_test, y_test)\n",
    "print(f\"Test Loss: {test_loss: .4f}\")\n",
    "print(f\"Test Accuracy: {test_accuracy: .4f}\")"
   ]
  },
  {
   "cell_type": "code",
   "execution_count": 14,
   "metadata": {},
   "outputs": [
    {
     "name": "stdout",
     "output_type": "stream",
     "text": [
      "2/2 [==============================] - 0s 4ms/step\n",
      "Accuracy for (vertigo) Paroymsal  Positional Vertigo: 1.00\n",
      "Accuracy for AIDS: 1.00\n",
      "Accuracy for Acne: 1.00\n",
      "Accuracy for Alcoholic hepatitis: 1.00\n",
      "Accuracy for Allergy: 0.00\n",
      "Accuracy for Arthritis: 1.00\n",
      "Accuracy for Bronchial Asthma: 0.00\n",
      "Accuracy for Cervical spondylosis: 1.00\n",
      "Accuracy for Chicken pox: 1.00\n",
      "Accuracy for Chronic cholestasis: 1.00\n",
      "Accuracy for Common Cold: 1.00\n",
      "Accuracy for Dengue: 1.00\n",
      "Accuracy for Diabetes : 1.00\n",
      "Accuracy for Dimorphic hemmorhoids(piles): 1.00\n",
      "Accuracy for Drug Reaction: 1.00\n",
      "Accuracy for Fungal infection: 0.50\n",
      "Accuracy for GERD: 0.00\n",
      "Accuracy for Gastroenteritis: 0.00\n",
      "Accuracy for Heart attack: 1.00\n",
      "Accuracy for Hepatitis B: 1.00\n",
      "Accuracy for Hepatitis C: 1.00\n",
      "Accuracy for Hepatitis D: 0.00\n",
      "Accuracy for Hepatitis E: 1.00\n",
      "Accuracy for Hypertension : 1.00\n",
      "Accuracy for Hyperthyroidism: 1.00\n",
      "Accuracy for Hypoglycemia: 1.00\n",
      "Accuracy for Hypothyroidism: 1.00\n",
      "Accuracy for Impetigo: 1.00\n",
      "Accuracy for Jaundice: 1.00\n",
      "Accuracy for Malaria: 1.00\n",
      "Accuracy for Migraine: 1.00\n",
      "Accuracy for Osteoarthristis: 1.00\n",
      "Accuracy for Paralysis (brain hemorrhage): 1.00\n",
      "Accuracy for Peptic ulcer diseae: 1.00\n",
      "Accuracy for Pneumonia: 1.00\n",
      "Accuracy for Psoriasis: 1.00\n",
      "Accuracy for Tuberculosis: 1.00\n",
      "Accuracy for Typhoid: 1.00\n",
      "Accuracy for Urinary tract infection: 1.00\n",
      "Accuracy for Varicose veins: 1.00\n",
      "Accuracy for hepatitis A: 1.00\n"
     ]
    }
   ],
   "source": [
    "disease_list = label_encoder.classes_.tolist()\n",
    "# Ensure predictions are probabilities for all test samples\n",
    "predictions = model.predict(X_test)\n",
    "\n",
    "# Convert one-hot encoded labels to class indices\n",
    "true_labels = np.argmax(y_test, axis=1)  # Shape: (num_samples,)\n",
    "\n",
    "# Loop over each disease\n",
    "for disease_idx, disease in enumerate(disease_list):\n",
    "    # Get indices of samples belonging to the current disease\n",
    "    disease_indices = np.where(true_labels == disease_idx)[0]\n",
    "\n",
    "    # Check if there are samples for the current disease\n",
    "    if len(disease_indices) == 0:\n",
    "        print(f\"No samples for disease {disease}. Skipping...\")\n",
    "        continue\n",
    "\n",
    "    # Extract predictions and compute accuracy for the current disease\n",
    "    disease_predictions = np.argmax(predictions[disease_indices], axis=1)\n",
    "    accuracy = np.mean(disease_predictions == disease_idx)\n",
    "\n",
    "    print(f\"Accuracy for {disease}: {accuracy:.2f}\")"
   ]
  },
  {
   "cell_type": "markdown",
   "metadata": {},
   "source": [
    "Creating and testing a new symptom set"
   ]
  },
  {
   "cell_type": "code",
   "execution_count": 19,
   "metadata": {},
   "outputs": [],
   "source": [
    "import pandas as pd\n",
    "\n",
    "def construct_symptom_array(all_symptoms, active_symptoms):\n",
    "    \"\"\"\n",
    "    Constructs a binary array representing symptom presence for a single patient.\n",
    "    \n",
    "    Parameters:\n",
    "    - all_symptoms (list): A list of all possible symptoms (feature names of the model).\n",
    "    - active_symptoms (list): A list of symptoms reported for the patient.\n",
    "    \n",
    "    Returns:\n",
    "    - np.array: A binary array of length len(all_symptoms).\n",
    "    \"\"\"\n",
    "    # Create a set for faster lookup\n",
    "    active_symptoms_set = set(active_symptoms)\n",
    "    \n",
    "    # Create the binary array\n",
    "    symptom_array = np.array([1 if symptom in active_symptoms_set else 0 for symptom in all_symptoms])\n",
    "    \n",
    "    return symptom_array"
   ]
  },
  {
   "cell_type": "code",
   "execution_count": 20,
   "metadata": {},
   "outputs": [
    {
     "name": "stdout",
     "output_type": "stream",
     "text": [
      "1/1 [==============================] - 0s 58ms/step\n"
     ]
    }
   ],
   "source": [
    "# Assume all_symptoms comes from your training data\n",
    "all_symptoms = X_train.columns.tolist()  # List of all symptoms (feature names)\n",
    "active_symptoms = [\"inflammatory_nails\", \"blister\", \"small_dents_in_nails\", \"yellow_crust_ooze\", \"continuous_sneezing\"]  # Example input symptoms from a user\n",
    "\n",
    "# Construct the binary array\n",
    "new_symptom_set = construct_symptom_array(all_symptoms, active_symptoms)\n",
    "\n",
    "# Ensure the input is in the correct shape for the model\n",
    "new_symptom_set = np.expand_dims(new_symptom_set, axis=0)  # Shape becomes (1, len(all_symptoms))\n",
    "\n",
    "# Now it can be fed into the model for prediction\n",
    "predictions = model.predict(new_symptom_set)"
   ]
  },
  {
   "cell_type": "code",
   "execution_count": 23,
   "metadata": {},
   "outputs": [
    {
     "name": "stdout",
     "output_type": "stream",
     "text": [
      "1/1 [==============================] - 0s 20ms/step\n",
      "Disease: Psoriasis, Probability: 0.05\n",
      "Disease: Hypothyroidism, Probability: 0.04\n",
      "Disease: Hypertension , Probability: 0.04\n",
      "Disease: Dimorphic hemmorhoids(piles), Probability: 0.03\n",
      "Disease: Common Cold, Probability: 0.03\n"
     ]
    }
   ],
   "source": [
    "# Extract the mapping from the label encoder\n",
    "disease_list = label_encoder.classes_.tolist()\n",
    "\n",
    "# Get predictions for the input\n",
    "predictions = model.predict(new_symptom_set)\n",
    "\n",
    "# Extract the top 5 disease indices and probabilities\n",
    "top_5_indices = predictions[0].argsort()[-5:][::-1]  # Indices of the top 5 predictions\n",
    "top_5_probabilities = predictions[0][top_5_indices]  # Corresponding probabilities\n",
    "\n",
    "# Map indices to disease names (if you have a label mapping)\n",
    "disease_mapping = {i: disease_name for i, disease_name in enumerate(disease_list)}  # Example mapping\n",
    "top_5_diseases = [disease_mapping[idx] for idx in top_5_indices]\n",
    "\n",
    "# Print the results\n",
    "for disease, prob in zip(top_5_diseases, top_5_probabilities):\n",
    "    print(f\"Disease: {disease}, Probability: {prob:.2f}\")"
   ]
  }
 ],
 "metadata": {
  "kernelspec": {
   "display_name": "dsi_participant",
   "language": "python",
   "name": "python3"
  },
  "language_info": {
   "codemirror_mode": {
    "name": "ipython",
    "version": 3
   },
   "file_extension": ".py",
   "mimetype": "text/x-python",
   "name": "python",
   "nbconvert_exporter": "python",
   "pygments_lexer": "ipython3",
   "version": "3.9.15"
  }
 },
 "nbformat": 4,
 "nbformat_minor": 2
}
